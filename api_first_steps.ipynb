{
 "cells": [
  {
   "cell_type": "code",
   "execution_count": 1,
   "id": "f91c13dd-5378-4b56-b9c2-e12dc592c355",
   "metadata": {},
   "outputs": [],
   "source": [
    "import pandas as pd\n",
    "import requests"
   ]
  },
  {
   "cell_type": "code",
   "execution_count": 2,
   "id": "d55b7695-2d77-4d46-ace9-893b2eeb5621",
   "metadata": {},
   "outputs": [],
   "source": [
    "url = 'https://jsonplaceholder.typicode.com/users'"
   ]
  },
  {
   "cell_type": "code",
   "execution_count": 3,
   "id": "7650577c-7517-4572-a34b-e11fc5a27786",
   "metadata": {},
   "outputs": [],
   "source": [
    "response = requests.get(url)"
   ]
  },
  {
   "cell_type": "code",
   "execution_count": 4,
   "id": "c9c99fea-fbed-4462-9f51-88b5a395d4b9",
   "metadata": {},
   "outputs": [],
   "source": [
    "data = response.json()"
   ]
  },
  {
   "cell_type": "code",
   "execution_count": 5,
   "id": "022bdbd2-0efa-4e35-8c64-69ffcd9e527e",
   "metadata": {},
   "outputs": [],
   "source": [
    "users_df = pd.DataFrame(data)"
   ]
  },
  {
   "cell_type": "code",
   "execution_count": 6,
   "id": "11555f85-96c9-4eb2-8357-cb95f32b8d90",
   "metadata": {},
   "outputs": [
    {
     "name": "stdout",
     "output_type": "stream",
     "text": [
      "Uspešno povučeni podaci sa API-ja:\n",
      "   id              name   username                      email  \\\n",
      "0   1     Leanne Graham       Bret          Sincere@april.biz   \n",
      "1   2      Ervin Howell  Antonette          Shanna@melissa.tv   \n",
      "2   3  Clementine Bauch   Samantha         Nathan@yesenia.net   \n",
      "3   4  Patricia Lebsack   Karianne  Julianne.OConner@kory.org   \n",
      "4   5  Chelsey Dietrich     Kamren   Lucio_Hettinger@annie.ca   \n",
      "\n",
      "                                             address                  phone  \\\n",
      "0  {'street': 'Kulas Light', 'suite': 'Apt. 556',...  1-770-736-8031 x56442   \n",
      "1  {'street': 'Victor Plains', 'suite': 'Suite 87...    010-692-6593 x09125   \n",
      "2  {'street': 'Douglas Extension', 'suite': 'Suit...         1-463-123-4447   \n",
      "3  {'street': 'Hoeger Mall', 'suite': 'Apt. 692',...      493-170-9623 x156   \n",
      "4  {'street': 'Skiles Walks', 'suite': 'Suite 351...          (254)954-1289   \n",
      "\n",
      "         website                                            company  \n",
      "0  hildegard.org  {'name': 'Romaguera-Crona', 'catchPhrase': 'Mu...  \n",
      "1  anastasia.net  {'name': 'Deckow-Crist', 'catchPhrase': 'Proac...  \n",
      "2    ramiro.info  {'name': 'Romaguera-Jacobson', 'catchPhrase': ...  \n",
      "3       kale.biz  {'name': 'Robel-Corkery', 'catchPhrase': 'Mult...  \n",
      "4   demarco.info  {'name': 'Keebler LLC', 'catchPhrase': 'User-c...  \n"
     ]
    }
   ],
   "source": [
    "print(\"Uspešno povučeni podaci sa API-ja:\")\n",
    "print(users_df.head())"
   ]
  },
  {
   "cell_type": "code",
   "execution_count": null,
   "id": "67763173-7400-451a-8410-4fa5f18c4dfa",
   "metadata": {},
   "outputs": [],
   "source": []
  }
 ],
 "metadata": {
  "kernelspec": {
   "display_name": "Python 3 (ipykernel)",
   "language": "python",
   "name": "python3"
  },
  "language_info": {
   "codemirror_mode": {
    "name": "ipython",
    "version": 3
   },
   "file_extension": ".py",
   "mimetype": "text/x-python",
   "name": "python",
   "nbconvert_exporter": "python",
   "pygments_lexer": "ipython3",
   "version": "3.13.5"
  }
 },
 "nbformat": 4,
 "nbformat_minor": 5
}
